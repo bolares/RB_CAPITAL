{
 "cells": [
  {
   "cell_type": "markdown",
   "metadata": {},
   "source": [
    "### Develop LSTM Models For Univariate Time Series Forecasting"
   ]
  },
  {
   "cell_type": "code",
   "execution_count": 1,
   "metadata": {},
   "outputs": [],
   "source": [
    "\n",
    "# univariate lstm example\n",
    "import numpy as np\n",
    "import pandas as pd\n",
    "from tensorflow.keras.models import Sequential\n",
    "from tensorflow.keras.layers import LSTM\n",
    "from tensorflow.keras.layers import Dense\n",
    "from tensorflow.keras.layers import Flatten\n",
    "from sklearn.metrics import mean_squared_error\n"
   ]
  },
  {
   "cell_type": "code",
   "execution_count": 2,
   "metadata": {},
   "outputs": [],
   "source": [
    "# preparing independent and dependent features\n",
    "def prepare_data(timeseries_data, n_features):\n",
    "\tX, y =[],[]\n",
    "\tfor i in range(len(timeseries_data)):\n",
    "\t\t# find the end of this pattern\n",
    "\t\tend_ix = i + n_features\n",
    "\t\t# check if we are beyond the sequence\n",
    "\t\tif end_ix > len(timeseries_data)-1:\n",
    "\t\t\tbreak\n",
    "\t\t# gather input and output parts of the pattern\n",
    "\t\tseq_x, seq_y = timeseries_data[i:end_ix], timeseries_data[end_ix]\n",
    "\t\tX.append(seq_x)\n",
    "\t\ty.append(seq_y)\n",
    "\treturn np.array(X), np.array(y)"
   ]
  },
  {
   "cell_type": "code",
   "execution_count": null,
   "metadata": {},
   "outputs": [],
   "source": []
  },
  {
   "cell_type": "code",
   "execution_count": 3,
   "metadata": {},
   "outputs": [],
   "source": [
    "# define input sequence\n",
    "timeseries_data = pd.read_csv('univ_data.csv')\n",
    "timeseries_data = list(timeseries_data['close'])\n",
    "# choose a number of time steps\n",
    "n_steps = 20\n",
    "# split into samples\n",
    "X, y = prepare_data(timeseries_data, n_steps)"
   ]
  },
  {
   "cell_type": "code",
   "execution_count": 4,
   "metadata": {},
   "outputs": [
    {
     "name": "stdout",
     "output_type": "stream",
     "text": [
      "[[0.86393 0.86397 0.86378 ... 0.86373 0.86363 0.86387]\n",
      " [0.86397 0.86378 0.86385 ... 0.86363 0.86387 0.8639 ]\n",
      " [0.86378 0.86385 0.86384 ... 0.86387 0.8639  0.86393]\n",
      " ...\n",
      " [0.83246 0.83279 0.83321 ... 0.83305 0.83304 0.83321]\n",
      " [0.83279 0.83321 0.83312 ... 0.83304 0.83321 0.83303]\n",
      " [0.83321 0.83312 0.83316 ... 0.83321 0.83303 0.83305]]\n",
      "[0.8639  0.86393 0.8636  ... 0.83303 0.83305 0.83323]\n"
     ]
    },
    {
     "data": {
      "text/plain": [
       "(None, None)"
      ]
     },
     "execution_count": 4,
     "metadata": {},
     "output_type": "execute_result"
    }
   ],
   "source": [
    "print(X),print(y)"
   ]
  },
  {
   "cell_type": "code",
   "execution_count": 5,
   "metadata": {},
   "outputs": [
    {
     "data": {
      "text/plain": [
       "(89980, 20)"
      ]
     },
     "execution_count": 5,
     "metadata": {},
     "output_type": "execute_result"
    }
   ],
   "source": [
    "X.shape"
   ]
  },
  {
   "cell_type": "code",
   "execution_count": 6,
   "metadata": {},
   "outputs": [],
   "source": [
    "# reshape from [samples, timesteps] into [samples, timesteps, features]\n",
    "n_features = 1\n",
    "X = X.reshape((X.shape[0], X.shape[1], n_features))"
   ]
  },
  {
   "cell_type": "markdown",
   "metadata": {},
   "source": [
    "### Building LSTM Model"
   ]
  },
  {
   "cell_type": "code",
   "execution_count": 7,
   "metadata": {},
   "outputs": [],
   "source": [
    "\n",
    "# define model\n",
    "model = Sequential()\n",
    "model.add(LSTM(50, activation='relu', return_sequences=True, input_shape=(n_steps, n_features)))\n",
    "model.add(LSTM(50, activation='relu'))\n",
    "model.add(Dense(1))\n",
    "model.compile(optimizer='adam', loss='mse')\n",
    "#fit model\n",
    "model.fit(X, y, epochs=20, verbose=1, shuffle=False)\n"
   ]
  },
  {
   "cell_type": "markdown",
   "metadata": {},
   "source": [
    "##### Sauvegarde du model"
   ]
  },
  {
   "cell_type": "code",
   "execution_count": 23,
   "metadata": {},
   "outputs": [],
   "source": [
    "model.save('univ_v1_model.h5')"
   ]
  },
  {
   "cell_type": "markdown",
   "metadata": {},
   "source": [
    "##### Chargement du model"
   ]
  },
  {
   "cell_type": "code",
   "execution_count": 8,
   "metadata": {},
   "outputs": [],
   "source": [
    "model.load_weights('univ_v1_model.h5')"
   ]
  },
  {
   "cell_type": "markdown",
   "metadata": {},
   "source": [
    "### Predicting For the next 10 data"
   ]
  },
  {
   "cell_type": "code",
   "execution_count": 9,
   "metadata": {},
   "outputs": [
    {
     "name": "stdout",
     "output_type": "stream",
     "text": [
      "0 candle input [0.83312 0.83316 0.83299 0.83288 0.83323 0.83357 0.83379 0.83386 0.83394\n",
      " 0.83374 0.8336  0.83272 0.83226 0.8328  0.83305 0.83304 0.83321 0.83303\n",
      " 0.83305 0.83323]\n",
      "0 candle output [[0.83270466]]\n",
      "1 candle input [0.83316    0.83299    0.83288    0.83323    0.83357    0.83379\n",
      " 0.83386    0.83394    0.83374    0.8336     0.83272    0.83226\n",
      " 0.8328     0.83305    0.83304    0.83321    0.83303    0.83305\n",
      " 0.83323    0.83270466]\n",
      "1 candle output [[0.8327079]]\n",
      "2 candle input [0.83299    0.83288    0.83323    0.83357    0.83379    0.83386\n",
      " 0.83394    0.83374    0.8336     0.83272    0.83226    0.8328\n",
      " 0.83305    0.83304    0.83321    0.83303    0.83305    0.83323\n",
      " 0.83270466 0.83270788]\n",
      "2 candle output [[0.83270717]]\n",
      "3 candle input [0.83288    0.83323    0.83357    0.83379    0.83386    0.83394\n",
      " 0.83374    0.8336     0.83272    0.83226    0.8328     0.83305\n",
      " 0.83304    0.83321    0.83303    0.83305    0.83323    0.83270466\n",
      " 0.83270788 0.83270717]\n",
      "3 candle output [[0.83270717]]\n",
      "4 candle input [0.83323    0.83357    0.83379    0.83386    0.83394    0.83374\n",
      " 0.8336     0.83272    0.83226    0.8328     0.83305    0.83304\n",
      " 0.83321    0.83303    0.83305    0.83323    0.83270466 0.83270788\n",
      " 0.83270717 0.83270717]\n",
      "4 candle output [[0.8327067]]\n",
      "5 candle input [0.83357    0.83379    0.83386    0.83394    0.83374    0.8336\n",
      " 0.83272    0.83226    0.8328     0.83305    0.83304    0.83321\n",
      " 0.83303    0.83305    0.83323    0.83270466 0.83270788 0.83270717\n",
      " 0.83270717 0.83270669]\n",
      "5 candle output [[0.83270633]]\n",
      "6 candle input [0.83379    0.83386    0.83394    0.83374    0.8336     0.83272\n",
      " 0.83226    0.8328     0.83305    0.83304    0.83321    0.83303\n",
      " 0.83305    0.83323    0.83270466 0.83270788 0.83270717 0.83270717\n",
      " 0.83270669 0.83270633]\n",
      "6 candle output [[0.8327061]]\n",
      "7 candle input [0.83386    0.83394    0.83374    0.8336     0.83272    0.83226\n",
      " 0.8328     0.83305    0.83304    0.83321    0.83303    0.83305\n",
      " 0.83323    0.83270466 0.83270788 0.83270717 0.83270717 0.83270669\n",
      " 0.83270633 0.83270609]\n",
      "7 candle output [[0.83270574]]\n",
      "8 candle input [0.83394    0.83374    0.8336     0.83272    0.83226    0.8328\n",
      " 0.83305    0.83304    0.83321    0.83303    0.83305    0.83323\n",
      " 0.83270466 0.83270788 0.83270717 0.83270717 0.83270669 0.83270633\n",
      " 0.83270609 0.83270574]\n",
      "8 candle output [[0.8327056]]\n",
      "9 candle input [0.83374    0.8336     0.83272    0.83226    0.8328     0.83305\n",
      " 0.83304    0.83321    0.83303    0.83305    0.83323    0.83270466\n",
      " 0.83270788 0.83270717 0.83270717 0.83270669 0.83270633 0.83270609\n",
      " 0.83270574 0.83270562]\n",
      "9 candle output [[0.8327055]]\n",
      "[0.83270466, 0.8327079, 0.83270717, 0.83270717, 0.8327067, 0.83270633, 0.8327061, 0.83270574, 0.8327056, 0.8327055]\n"
     ]
    }
   ],
   "source": [
    "# demonstrate prediction for next 10 days\n",
    "x_input = np.array([0.83321, 0.83312, 0.83316, 0.83299, 0.83288, 0.83323, 0.83357, 0.83379, 0.83386, 0.83394, 0.83374, 0.8336, 0.83272, 0.83226, 0.8328, 0.83305, 0.83304, 0.83321, 0.83303, 0.83305, 0.83323])\n",
    "temp_input=list(x_input)\n",
    "lst_output=[]\n",
    "i=0\n",
    "while(i<10):\n",
    "    \n",
    "    if(len(temp_input)>3):\n",
    "        x_input=np.array(temp_input[1:])\n",
    "        print(\"{} candle input {}\".format(i,x_input))\n",
    "        #print(x_input)\n",
    "        x_input = x_input.reshape((1, n_steps, n_features))\n",
    "        #print(x_input)\n",
    "        yhat = model.predict(x_input, verbose=0)\n",
    "        print(\"{} candle output {}\".format(i,yhat))\n",
    "        temp_input.append(yhat[0][0])\n",
    "        temp_input=temp_input[1:]\n",
    "        #print(temp_input)\n",
    "        lst_output.append(yhat[0][0])\n",
    "        i=i+1\n",
    "    else:\n",
    "        x_input = x_input.reshape((1, n_steps, n_features))\n",
    "        yhat = model.predict(x_input, verbose=0)\n",
    "        print(yhat[0])\n",
    "        temp_input.append(yhat[0][0])\n",
    "        lst_output.append(yhat[0][0])\n",
    "        i=i+1\n",
    "    \n",
    "\n",
    "print(lst_output)"
   ]
  },
  {
   "cell_type": "code",
   "execution_count": 16,
   "metadata": {},
   "outputs": [
    {
     "data": {
      "text/plain": [
       "[0.83270466,\n",
       " 0.8327079,\n",
       " 0.83270717,\n",
       " 0.83270717,\n",
       " 0.8327067,\n",
       " 0.83270633,\n",
       " 0.8327061,\n",
       " 0.83270574,\n",
       " 0.8327056,\n",
       " 0.8327055]"
      ]
     },
     "execution_count": 16,
     "metadata": {},
     "output_type": "execute_result"
    }
   ],
   "source": [
    "lst_output"
   ]
  },
  {
   "cell_type": "markdown",
   "metadata": {},
   "source": [
    "### Visualizaing The Output"
   ]
  },
  {
   "cell_type": "code",
   "execution_count": 17,
   "metadata": {},
   "outputs": [],
   "source": [
    "import matplotlib.pyplot as plt"
   ]
  },
  {
   "cell_type": "code",
   "execution_count": 18,
   "metadata": {},
   "outputs": [
    {
     "data": {
      "text/plain": [
       "[<matplotlib.lines.Line2D at 0x14073c31d00>]"
      ]
     },
     "execution_count": 18,
     "metadata": {},
     "output_type": "execute_result"
    },
    {
     "data": {
      "image/png": "[encoded data removed]",
      "text/plain": [
       "<Figure size 432x288 with 1 Axes>"
      ]
     },
     "metadata": {
      "needs_background": "light"
     },
     "output_type": "display_data"
    }
   ],
   "source": [
    "#plt.plot(day_new,timeseries_data)\n",
    "plt.plot(lst_output)"
   ]
  },
  {
   "cell_type": "code",
   "execution_count": null,
   "metadata": {},
   "outputs": [],
   "source": []
  }
 ],
 "metadata": {
  "kernelspec": {
   "display_name": "Python 3 (ipykernel)",
   "language": "python",
   "name": "python3"
  },
  "language_info": {
   "codemirror_mode": {
    "name": "ipython",
    "version": 3
   },
   "file_extension": ".py",
   "mimetype": "text/x-python",
   "name": "python",
   "nbconvert_exporter": "python",
   "pygments_lexer": "ipython3",
   "version": "3.8.12"
  }
 },
 "nbformat": 4,
 "nbformat_minor": 2
}
